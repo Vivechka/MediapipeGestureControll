{
 "cells": [
  {
   "cell_type": "code",
   "execution_count": 1,
   "metadata": {},
   "outputs": [],
   "source": [
    "from ImageMonitoring.gesture_tracking import track_gesture"
   ]
  },
  {
   "cell_type": "code",
   "execution_count": 2,
   "metadata": {},
   "outputs": [],
   "source": [
    "def low_light():\n",
    "    print(\"Low light enabled!\")\n",
    "    \n",
    "def bright_light():\n",
    "    print(\"Bright light enabled!\")\n",
    "    \n",
    "def disable_light():\n",
    "    print(\"Light disabled!\")"
   ]
  },
  {
   "cell_type": "code",
   "execution_count": 3,
   "metadata": {},
   "outputs": [],
   "source": [
    "def map_command_to_gesture(gesture):\n",
    "    mapping_dictionary = {\n",
    "        \"FIVE\": low_light,\n",
    "        \"FIST\": disable_light,\n",
    "        \"HARD\": bright_light\n",
    "    }\n",
    "    mapping_dictionary.get(gesture, \"No gesture in mapping dictionary\")()\n",
    "    return mapping_dictionary.get(gesture, \"No gesture in mapping dictionary\")\n",
    "\n"
   ]
  },
  {
   "cell_type": "code",
   "execution_count": null,
   "metadata": {},
   "outputs": [
    {
     "name": "stdout",
     "output_type": "stream",
     "text": [
      "Low light enabled!\n",
      "Light disabled!\n",
      "Bright light enabled!\n",
      "Low light enabled!\n",
      "Bright light enabled!\n"
     ]
    }
   ],
   "source": [
    "track_gesture(function_on_change=map_command_to_gesture)"
   ]
  },
  {
   "cell_type": "code",
   "execution_count": null,
   "metadata": {},
   "outputs": [],
   "source": []
  }
 ],
 "metadata": {
  "kernelspec": {
   "display_name": "Python 3",
   "language": "python",
   "name": "python3"
  },
  "language_info": {
   "codemirror_mode": {
    "name": "ipython",
    "version": 3
   },
   "file_extension": ".py",
   "mimetype": "text/x-python",
   "name": "python",
   "nbconvert_exporter": "python",
   "pygments_lexer": "ipython3",
   "version": "3.6.9"
  }
 },
 "nbformat": 4,
 "nbformat_minor": 4
}
